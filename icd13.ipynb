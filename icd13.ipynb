{
 "cells": [
  {
   "cell_type": "markdown",
   "id": "85a1fd84-04c7-4025-a50b-150a95b1e152",
   "metadata": {},
   "source": [
    "# Notebook ICD - 13"
   ]
  },
  {
   "cell_type": "markdown",
   "id": "e517e961-c76e-4bf5-a115-7f816df754b9",
   "metadata": {},
   "source": [
    "### Library"
   ]
  },
  {
   "cell_type": "code",
   "execution_count": 2,
   "id": "9bd230f6-f7f7-4476-9510-de08a10ad083",
   "metadata": {},
   "outputs": [],
   "source": [
    "import pandas as pd\n",
    "from sklearn.tree import DecisionTreeClassifier"
   ]
  },
  {
   "cell_type": "markdown",
   "id": "5aab3690-420e-4ac4-bcb7-5db3fe4dce82",
   "metadata": {},
   "source": [
    "### Dataset"
   ]
  },
  {
   "cell_type": "code",
   "execution_count": 3,
   "id": "bd3e6290-3f3a-4618-a827-2948f36ef6c2",
   "metadata": {},
   "outputs": [],
   "source": [
    "df = pd.read_csv(r'weather.numeric.csv')"
   ]
  },
  {
   "cell_type": "markdown",
   "id": "94c1f8b8-f1dd-4a8b-acf4-c6370dc26ca7",
   "metadata": {},
   "source": [
    "Show dataset"
   ]
  },
  {
   "cell_type": "code",
   "execution_count": 4,
   "id": "9f9d98b6-cfb0-4f7f-8484-63e59c8e5c16",
   "metadata": {},
   "outputs": [
    {
     "name": "stdout",
     "output_type": "stream",
     "text": [
      "    Day   Outlook  Temperature  Humidity    Wind   Play\n",
      "0     1     sunny           85        85    weak  False\n",
      "1     2     sunny           80        90  strong  False\n",
      "2     3  overcast           83        86    weak   True\n",
      "3     4      rain           70        96    weak   True\n",
      "4     5      rain           68        80    weak   True\n",
      "5     6      rain           65        70  strong  False\n",
      "6     7  overcast           64        65  strong   True\n",
      "7     8     sunny           72        95    weak  False\n",
      "8     9     sunny           69        70    weak   True\n",
      "9    10      rain           75        80    weak   True\n",
      "10   11     sunny           75        70  strong   True\n",
      "11   12  overcast           72        90  strong   True\n",
      "12   13  overcast           81        75    weak   True\n",
      "13   14      rain           71        91  strong  False\n"
     ]
    }
   ],
   "source": [
    "print(df)"
   ]
  },
  {
   "cell_type": "code",
   "execution_count": 5,
   "id": "a1116a5d-0c02-4315-bbe6-7004d0f36755",
   "metadata": {},
   "outputs": [
    {
     "name": "stdout",
     "output_type": "stream",
     "text": [
      "    Outlook  Temperature  Humidity    Wind\n",
      "0     sunny           85        85    weak\n",
      "1     sunny           80        90  strong\n",
      "2  overcast           83        86    weak\n",
      "3      rain           70        96    weak\n",
      "4      rain           68        80    weak\n",
      "    Play\n",
      "0  False\n",
      "1  False\n",
      "2   True\n",
      "3   True\n",
      "4   True\n"
     ]
    }
   ],
   "source": [
    "# defining the dependent and independent variables\n",
    "X_train = df[['Outlook', 'Temperature', 'Humidity', 'Wind']]\n",
    "y_train = df[['Play']]\n",
    "\n",
    "print(X_train.head())\n",
    "print(y_train.head())"
   ]
  },
  {
   "cell_type": "markdown",
   "id": "9fe8d45c-cde8-43bb-a452-6d144ede0ef3",
   "metadata": {},
   "source": [
    "### From categorical to numeric"
   ]
  },
  {
   "cell_type": "markdown",
   "id": "77252e77-f84f-469d-9793-c6f735ab22b7",
   "metadata": {},
   "source": [
    "Scikit-learn uses an optimized version of the CART algorithm; however, the scikit-learn implementation does not support categorical variables for now"
   ]
  },
  {
   "cell_type": "code",
   "execution_count": 21,
   "id": "019663c8-3683-4c65-9884-b0d6119725f1",
   "metadata": {},
   "outputs": [
    {
     "name": "stdout",
     "output_type": "stream",
     "text": [
      "['sunny', 'sunny', 'overcast', 'rain', 'rain', 'rain', 'overcast', 'sunny', 'sunny', 'rain', 'sunny', 'overcast', 'overcast', 'rain']\n",
      "[2 2 0 1 1 1 0 2 2 1 2 0 0 1]\n",
      "['weak', 'strong', 'weak', 'weak', 'weak', 'strong', 'strong', 'weak', 'weak', 'weak', 'strong', 'strong', 'weak', 'strong']\n",
      "[1 0 1 1 1 0 0 1 1 1 0 0 1 0]\n"
     ]
    }
   ],
   "source": [
    "from sklearn.preprocessing import LabelEncoder\n",
    "encoder = LabelEncoder()\n",
    "\n",
    "outlook = X_train.iloc[:,0]\n",
    "outlook_enc = encoder.fit_transform(outlook)\n",
    "print(outlook.tolist())\n",
    "print(outlook_enc)\n",
    "\n",
    "wind = X_train.iloc[:,3]\n",
    "wind_enc = encoder.fit_transform(wind)\n",
    "print(wind.tolist())\n",
    "print(wind_enc)"
   ]
  },
  {
   "cell_type": "code",
   "execution_count": 42,
   "id": "06c1b430-f87d-4620-9d93-39efcbe24b6e",
   "metadata": {},
   "outputs": [
    {
     "name": "stdout",
     "output_type": "stream",
     "text": [
      "    Outlook  Temperature  Humidity  Wind\n",
      "0         2           85        85     2\n",
      "1         2           80        90     2\n",
      "2         0           83        86     0\n",
      "3         1           70        96     1\n",
      "4         1           68        80     1\n",
      "5         1           65        70     1\n",
      "6         0           64        65     0\n",
      "7         2           72        95     2\n",
      "8         2           69        70     2\n",
      "9         1           75        80     1\n",
      "10        2           75        70     2\n",
      "11        0           72        90     0\n",
      "12        0           81        75     0\n",
      "13        1           71        91     1\n"
     ]
    }
   ],
   "source": [
    "df_outlook = pd.DataFrame(outlook_enc, columns = ['Outlook'])\n",
    "df_wind = pd.DataFrame(outlook_enc, columns = ['Wind'])\n",
    "X_train_num = pd.concat([df_outlook, X_train.iloc[:,1], X_train.iloc[:,2], df_wind], axis=1)\n",
    "print(X_train_num)"
   ]
  },
  {
   "cell_type": "markdown",
   "id": "7daff3dc-d455-45b2-ab70-5f7a5320d9e0",
   "metadata": {},
   "source": [
    "### Generación del modelo"
   ]
  },
  {
   "cell_type": "code",
   "execution_count": null,
   "id": "0b6b3869-1a3e-4db9-a107-82514c342577",
   "metadata": {},
   "outputs": [],
   "source": [
    "clf = DecisionTreeClassifier().fit(X_train_num, y_train)"
   ]
  },
  {
   "cell_type": "markdown",
   "id": "38f1c331-ad34-4ef9-a6b5-9410dbf02112",
   "metadata": {},
   "source": [
    "Visualizing the model"
   ]
  },
  {
   "cell_type": "code",
   "execution_count": null,
   "id": "b779646d-491a-4125-935c-065927ba8fbb",
   "metadata": {},
   "outputs": [],
   "source": [
    "from sklearn import tree\n",
    "features = X_train_num.columns.values.tolist()\n",
    "text_representation = tree.export_text(clf,\n",
    "                                      feature_names = features)\n",
    "print(text_representation)"
   ]
  },
  {
   "cell_type": "code",
   "execution_count": 67,
   "id": "8b82d5f9-6686-4c2a-b6cd-3a8b50118616",
   "metadata": {},
   "outputs": [
    {
     "data": {
      "image/png": "[encoded data removed]",
      "text/plain": [
       "<Figure size 640x480 with 1 Axes>"
      ]
     },
     "metadata": {},
     "output_type": "display_data"
    }
   ],
   "source": [
    "from matplotlib import pyplot as plt\n",
    "fig = tree.plot_tree(clf, \n",
    "                   feature_names = X_train_num.columns.values,\n",
    "                   class_names = ['False','True'],\n",
    "                   filled=True)"
   ]
  },
  {
   "cell_type": "markdown",
   "id": "ea696819-939d-417d-ab64-1f90101ea5be",
   "metadata": {},
   "source": [
    "### Evaluando modelo con nueva instancia"
   ]
  },
  {
   "cell_type": "code",
   "execution_count": 44,
   "id": "8019757e-19db-4192-b239-26d2aa9c3cc9",
   "metadata": {},
   "outputs": [
    {
     "name": "stdout",
     "output_type": "stream",
     "text": [
      "   Outlook  Temperature  Humidity  Wind\n",
      "0        2           85        65     0\n"
     ]
    },
    {
     "data": {
      "text/plain": [
       "array([ True])"
      ]
     },
     "execution_count": 44,
     "metadata": {},
     "output_type": "execute_result"
    }
   ],
   "source": [
    "# sunny:2, hot:85, normal:65, strong:0 \n",
    "new_example = [[2, 85, 65, 0]]\n",
    "X_test = pd.DataFrame(new_example, columns = ['Outlook', 'Temperature', 'Humidity', 'Wind'])\n",
    "print(X_test)\n",
    "clf.predict(X_test)"
   ]
  },
  {
   "cell_type": "markdown",
   "id": "12aaedfd-a6a9-4e0e-94e4-c8fba68a54d2",
   "metadata": {},
   "source": []
  },
  {
   "cell_type": "code",
   "execution_count": 70,
   "id": "6e371484-607b-4132-acdf-81433cf30860",
   "metadata": {},
   "outputs": [
    {
     "name": "stdout",
     "output_type": "stream",
     "text": [
      "['setosa' 'versicolor' 'virginica']\n",
      "['sepal length (cm)', 'sepal width (cm)', 'petal length (cm)', 'petal width (cm)']\n"
     ]
    }
   ],
   "source": [
    "from sklearn import datasets\n",
    "iris = datasets.load_iris()\n",
    "X = iris.data\n",
    "y = iris.target\n",
    "print(iris.target_names)\n",
    "print(iris['feature_names'])"
   ]
  },
  {
   "cell_type": "code",
   "execution_count": null,
   "id": "9500e5bb-bd64-4084-a11d-29fb355c9633",
   "metadata": {},
   "outputs": [],
   "source": []
  }
 ],
 "metadata": {
  "kernelspec": {
   "display_name": "Python 3 (ipykernel)",
   "language": "python",
   "name": "python3"
  },
  "language_info": {
   "codemirror_mode": {
    "name": "ipython",
    "version": 3
   },
   "file_extension": ".py",
   "mimetype": "text/x-python",
   "name": "python",
   "nbconvert_exporter": "python",
   "pygments_lexer": "ipython3",
   "version": "3.9.5"
  }
 },
 "nbformat": 4,
 "nbformat_minor": 5
}
