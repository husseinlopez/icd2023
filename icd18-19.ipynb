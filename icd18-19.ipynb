{
 "cells": [
  {
   "cell_type": "markdown",
   "id": "85a1fd84-04c7-4025-a50b-150a95b1e152",
   "metadata": {},
   "source": [
    "# Notebook ICD - 18.19"
   ]
  },
  {
   "cell_type": "markdown",
   "id": "e517e961-c76e-4bf5-a115-7f816df754b9",
   "metadata": {},
   "source": [
    "### Libraries"
   ]
  },
  {
   "cell_type": "code",
   "execution_count": null,
   "id": "9bd230f6-f7f7-4476-9510-de08a10ad083",
   "metadata": {},
   "outputs": [],
   "source": [
    "import pandas as pd\n",
    "import seaborn as sns\n",
    "from sklearn import preprocessing\n",
    "from sklearn.model_selection import StratifiedShuffleSplit\n",
    "from sklearn.tree import DecisionTreeClassifier\n",
    "from sklearn.naive_bayes import GaussianNB\n",
    "from sklearn.metrics import f1_score\n",
    "from numpy import mean\n",
    "from matplotlib import pyplot as plt\n",
    "from sklearn import tree\n",
    "from sklearn.ensemble import AdaBoostClassifier\n",
    "from sklearn.ensemble import RandomForestClassifier"
   ]
  },
  {
   "cell_type": "markdown",
   "id": "5aab3690-420e-4ac4-bcb7-5db3fe4dce82",
   "metadata": {},
   "source": [
    "### Dataset"
   ]
  },
  {
   "cell_type": "code",
   "execution_count": null,
   "id": "bd3e6290-3f3a-4618-a827-2948f36ef6c2",
   "metadata": {},
   "outputs": [],
   "source": [
    "df = pd.read_csv(\"diabetes.csv\")\n",
    "print(df.head())"
   ]
  },
  {
   "cell_type": "code",
   "execution_count": null,
   "id": "c6ec872b-bad6-446e-9fc7-45727e704a65",
   "metadata": {},
   "outputs": [],
   "source": [
    "X = df.iloc[:, 0:-1]\n",
    "y = df.iloc[:, -1]\n",
    "\n",
    "print(X.shape)\n",
    "print(y.shape)"
   ]
  },
  {
   "cell_type": "code",
   "execution_count": null,
   "id": "df33012c-4d20-4fdd-becf-5931671403e0",
   "metadata": {},
   "outputs": [],
   "source": [
    "X = preprocessing.StandardScaler().fit(X).transform(X)"
   ]
  },
  {
   "cell_type": "markdown",
   "id": "7daff3dc-d455-45b2-ab70-5f7a5320d9e0",
   "metadata": {},
   "source": [
    "## Baseline model"
   ]
  },
  {
   "cell_type": "markdown",
   "id": "f76fdd44-61ff-4bac-975e-fb877bb4eb5b",
   "metadata": {},
   "source": [
    "https://scikit-learn.org/stable/modules/cross_validation.html"
   ]
  },
  {
   "cell_type": "code",
   "execution_count": null,
   "id": "b9cabb3f-00f0-46e3-bbb5-0acf95263940",
   "metadata": {},
   "outputs": [],
   "source": [
    "sss = StratifiedShuffleSplit(n_splits=5, test_size=0.2, random_state=0)"
   ]
  },
  {
   "cell_type": "code",
   "execution_count": null,
   "id": "0b6b3869-1a3e-4db9-a107-82514c342577",
   "metadata": {},
   "outputs": [],
   "source": [
    "clf_nb = GaussianNB()\n",
    "scores = []\n",
    "\n",
    "for train_index, test_index in sss.split(X, y):\n",
    "    X_train, X_test = X[train_index], X[test_index]\n",
    "    y_train, y_test = y[train_index], y[test_index]\n",
    "    clf_nb.fit(X_train, y_train)\n",
    "    y_pred = clf_nb.predict(X_test)\n",
    "    scores.append(f1_score(y_test, y_pred, average='weighted'))\n",
    "\n",
    "print(scores)\n",
    "print(mean(scores))"
   ]
  },
  {
   "cell_type": "markdown",
   "id": "28552335-dce8-41ad-9ebb-289d8c92c1e5",
   "metadata": {},
   "source": [
    "## Decision Tree models"
   ]
  },
  {
   "cell_type": "markdown",
   "id": "bc447d0e-a453-4307-b718-cdf46032ce9c",
   "metadata": {},
   "source": [
    "### Deep tree"
   ]
  },
  {
   "cell_type": "code",
   "execution_count": null,
   "id": "bf5a9bd5-db8f-47c2-bab1-8fb84fcae718",
   "metadata": {},
   "outputs": [],
   "source": [
    "clf_ddt = DecisionTreeClassifier()\n",
    "scores = []\n",
    "\n",
    "for train_index, test_index in sss.split(X, y):\n",
    "    X_train, X_test = X[train_index], X[test_index]\n",
    "    y_train, y_test = y[train_index], y[test_index]\n",
    "    clf_ddt.fit(X_train, y_train)\n",
    "    y_pred = clf_ddt.predict(X_test)\n",
    "    scores.append(f1_score(y_test, y_pred, average='weighted'))\n",
    "\n",
    "print(scores)\n",
    "print(mean(scores))"
   ]
  },
  {
   "cell_type": "code",
   "execution_count": null,
   "id": "1cac12e2-bdfa-405d-b559-cdd0632d9170",
   "metadata": {},
   "outputs": [],
   "source": [
    "fig = tree.plot_tree(clf_ddt,\n",
    "                     feature_names = df.columns,\n",
    "                     class_names = ['False','True'],\n",
    "                     filled=True)"
   ]
  },
  {
   "cell_type": "markdown",
   "id": "d59454c8-8f7e-49ae-9cf6-6f742d0d5e1f",
   "metadata": {},
   "source": [
    "### Shallow tree"
   ]
  },
  {
   "cell_type": "code",
   "execution_count": null,
   "id": "d01cd457-5fbe-4b24-a4fd-ed2e24450f93",
   "metadata": {},
   "outputs": [],
   "source": [
    "clf_sdt = DecisionTreeClassifier(max_depth=2)\n",
    "scores = []\n",
    "\n",
    "for train_index, test_index in sss.split(X, y):\n",
    "    X_train, X_test = X[train_index], X[test_index]\n",
    "    y_train, y_test = y[train_index], y[test_index]\n",
    "    clf_sdt.fit(X_train, y_train)\n",
    "    y_pred = clf_sdt.predict(X_test)\n",
    "    scores.append(f1_score(y_test, y_pred, average='weighted'))\n",
    "\n",
    "print(scores)\n",
    "print(mean(scores))"
   ]
  },
  {
   "cell_type": "code",
   "execution_count": null,
   "id": "00b2ac41-6237-458e-bf16-6ce373cf5b16",
   "metadata": {},
   "outputs": [],
   "source": [
    "fig = tree.plot_tree(clf_sdt,\n",
    "                     feature_names = df.columns,\n",
    "                     class_names = ['False','True'],\n",
    "                     filled=True)"
   ]
  },
  {
   "cell_type": "markdown",
   "id": "e836c787-ac2d-4f94-923f-70396c64ab73",
   "metadata": {},
   "source": [
    "## Adaboost"
   ]
  },
  {
   "cell_type": "markdown",
   "id": "13a9e6a7-a170-479c-bedb-208c8a98a3ac",
   "metadata": {},
   "source": [
    "The base estimator from which the boosted ensemble is built. Support for sample weighting is required, as well as proper classes_ and n_classes_ attributes. If None, then the base estimator is DecisionTreeClassifier initialized with max_depth=1.\n",
    "\n",
    "Remember: Shallow trees have less variance but higher bias and then will be better choice for sequential methods. "
   ]
  },
  {
   "cell_type": "code",
   "execution_count": null,
   "id": "b70b7cf2-8764-42c4-a8f3-efed02ee62df",
   "metadata": {},
   "outputs": [],
   "source": [
    "clf_ab = AdaBoostClassifier(n_estimators=10, random_state=0)\n",
    "scores = []\n",
    "\n",
    "for train_index, test_index in sss.split(X, y):\n",
    "    X_train, X_test = X[train_index], X[test_index]\n",
    "    y_train, y_test = y[train_index], y[test_index]\n",
    "    clf_ab.fit(X_train, y_train)\n",
    "    y_pred = clf_ab.predict(X_test)\n",
    "    scores.append(f1_score(y_test, y_pred, average='weighted'))\n",
    "\n",
    "print(scores)\n",
    "print(mean(scores))"
   ]
  },
  {
   "cell_type": "markdown",
   "id": "4a8c6f9f-60bb-4e69-8f9d-4580cad67983",
   "metadata": {},
   "source": [
    "## Random Forest"
   ]
  },
  {
   "cell_type": "markdown",
   "id": "e14e5c3b-2bc2-47af-bb66-a9870c152677",
   "metadata": {},
   "source": [
    "The default values for the parameters controlling the size of the trees (e.g. max_depth, min_samples_leaf, etc.) lead to fully grown and unpruned trees which can potentially be very large on some data sets. max_depth: The maximum depth of the tree. If None, then nodes are expanded until all leaves are pure or until all leaves contain less than min_samples_split samples.\n",
    "\n",
    "The features are always randomly permuted at each split. Therefore, the best found split may vary, even with the same training data, max_features=n_features and bootstrap=False, if the improvement of the criterion is identical for several splits enumerated during the search of the best split. To obtain a deterministic behaviour during fitting, random_state has to be fixed.\n",
    "\n",
    "Remember: Deep trees have low bias but high variance and, so, are relevant choices for bagging."
   ]
  },
  {
   "cell_type": "code",
   "execution_count": null,
   "id": "c0d75c6c-6b60-4c30-b940-b9b361a1bc09",
   "metadata": {},
   "outputs": [],
   "source": [
    "clf_rf = RandomForestClassifier(n_estimators=10, random_state=0)\n",
    "scores = []\n",
    "\n",
    "for train_index, test_index in sss.split(X, y):\n",
    "    X_train, X_test = X[train_index], X[test_index]\n",
    "    y_train, y_test = y[train_index], y[test_index]\n",
    "    clf_rf.fit(X_train, y_train)\n",
    "    y_pred = clf_rf.predict(X_test)\n",
    "    scores.append(f1_score(y_test, y_pred, average='weighted'))\n",
    "\n",
    "print(scores)\n",
    "print(mean(scores))"
   ]
  },
  {
   "cell_type": "code",
   "execution_count": null,
   "id": "c57f07e7-004a-49d6-944e-6fdbba9a1620",
   "metadata": {},
   "outputs": [],
   "source": []
  }
 ],
 "metadata": {
  "kernelspec": {
   "display_name": "Python 3 (ipykernel)",
   "language": "python",
   "name": "python3"
  },
  "language_info": {
   "codemirror_mode": {
    "name": "ipython",
    "version": 3
   },
   "file_extension": ".py",
   "mimetype": "text/x-python",
   "name": "python",
   "nbconvert_exporter": "python",
   "pygments_lexer": "ipython3",
   "version": "3.9.5"
  }
 },
 "nbformat": 4,
 "nbformat_minor": 5
}
